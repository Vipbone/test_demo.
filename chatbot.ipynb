{
  "nbformat": 4,
  "nbformat_minor": 0,
  "metadata": {
    "colab": {
      "name": "chatbot.ipynb",
      "provenance": [],
      "authorship_tag": "ABX9TyMArE5nlbye4FzCcDzvkBvb",
      "include_colab_link": true
    },
    "kernelspec": {
      "name": "python3",
      "display_name": "Python 3"
    },
    "language_info": {
      "name": "python"
    }
  },
  "cells": [
    {
      "cell_type": "markdown",
      "metadata": {
        "id": "view-in-github",
        "colab_type": "text"
      },
      "source": [
        "<a href=\"https://colab.research.google.com/github/Vipbone/test_demo./blob/master/chatbot.ipynb\" target=\"_parent\"><img src=\"https://colab.research.google.com/assets/colab-badge.svg\" alt=\"Open In Colab\"/></a>"
      ]
    },
    {
      "cell_type": "markdown",
      "metadata": {
        "id": "XXB-A0-EGfRl"
      },
      "source": [
        "**Importing reruired libraries**\n"
      ]
    },
    {
      "cell_type": "code",
      "metadata": {
        "id": "VJkhGHZuGqpB"
      },
      "source": [
        "import random\n",
        "import nltk\n",
        "import string\n",
        "import random"
      ],
      "execution_count": 1,
      "outputs": []
    },
    {
      "cell_type": "markdown",
      "metadata": {
        "id": "Yr158d9QHOxi"
      },
      "source": [
        "**Importing and reading the corpus(training data)**\n"
      ]
    },
    {
      "cell_type": "code",
      "metadata": {
        "colab": {
          "base_uri": "https://localhost:8080/"
        },
        "id": "Mkv5chFUHjL3",
        "outputId": "842d97d2-1001-43c9-88eb-618160b6bd92"
      },
      "source": [
        "fo=open('chatbot_info.txt','r', errors = 'ignore')\n",
        "raw_docu=fo.read()\n",
        "raw_docu=raw_docu.lower() #converts text to lower case\n",
        "nltk.download('punkt') #using punkit tokenizer\n",
        "nltk.download('wordnet') #using the wordnet dictionary\n",
        "sent_tokens=nltk.sent_tokenize(raw_docu) #converts document to list of sentences\n",
        "word_tokens=nltk.word_tokenize(raw_docu) #converts document to list of words"
      ],
      "execution_count": 3,
      "outputs": [
        {
          "output_type": "stream",
          "text": [
            "[nltk_data] Downloading package punkt to /root/nltk_data...\n",
            "[nltk_data]   Unzipping tokenizers/punkt.zip.\n",
            "[nltk_data] Downloading package wordnet to /root/nltk_data...\n",
            "[nltk_data]   Unzipping corpora/wordnet.zip.\n"
          ],
          "name": "stdout"
        }
      ]
    },
    {
      "cell_type": "markdown",
      "metadata": {
        "id": "OJlG1ZHbKdTK"
      },
      "source": [
        "Demonstration of sentence tokens"
      ]
    },
    {
      "cell_type": "code",
      "metadata": {
        "colab": {
          "base_uri": "https://localhost:8080/"
        },
        "id": "n_31hoLGGMCP",
        "outputId": "b5adb729-791c-4718-cb02-4f72f97c7f25"
      },
      "source": [
        "sent_tokens[:2]"
      ],
      "execution_count": 4,
      "outputs": [
        {
          "output_type": "execute_result",
          "data": {
            "text/plain": [
              "['a chatbot is a software application used to conduct an on-line chat conversation via text or text-to-speech, in lieu of providing direct contact with a live human agent.',\n",
              " '[1] designed to convincingly simulate the way a human would behave as a conversational partner, chatbot systems typically require continuous tuning and testing, and many in production remain unable to adequately converse or pass the industry standard turing test.']"
            ]
          },
          "metadata": {
            "tags": []
          },
          "execution_count": 4
        }
      ]
    },
    {
      "cell_type": "markdown",
      "metadata": {
        "id": "SoCOmJ-kKxHJ"
      },
      "source": [
        "**Demonstration of word tokens**\n"
      ]
    },
    {
      "cell_type": "code",
      "metadata": {
        "colab": {
          "base_uri": "https://localhost:8080/"
        },
        "id": "f4SAq_ueK4Sk",
        "outputId": "80422a37-ffc7-4bb8-b268-dc6b6d0f0e0f"
      },
      "source": [
        "word_tokens[:3]"
      ],
      "execution_count": 5,
      "outputs": [
        {
          "output_type": "execute_result",
          "data": {
            "text/plain": [
              "['a', 'chatbot', 'is']"
            ]
          },
          "metadata": {
            "tags": []
          },
          "execution_count": 5
        }
      ]
    },
    {
      "cell_type": "markdown",
      "metadata": {
        "id": "Q9vK-I0KLfHV"
      },
      "source": [
        "**preprocessing the text**"
      ]
    },
    {
      "cell_type": "code",
      "metadata": {
        "id": "SfrMkP-pLk_B"
      },
      "source": [
        "lemmer =nltk.stem.WordNetLemmatizer()\n",
        "#WordNet is a kind of semantically-oriented dictionary of english included in NLTK library\n",
        "def LemTokens(tokens):\n",
        "  return [lemmer.lemmatize(token) for token in tokens]\n",
        "remove_punct_dict = dict((ord(punct),  None) for punct in string.punctuation)\n",
        "def LemNormalize(text):\n",
        "  return LemTokens(nltk.word_tokenize(text.lower().translate(remove_punct_dict)))"
      ],
      "execution_count": 22,
      "outputs": []
    },
    {
      "cell_type": "markdown",
      "metadata": {
        "id": "njDqOTqTNxmd"
      },
      "source": [
        "**Greeting Function Definition**"
      ]
    },
    {
      "cell_type": "code",
      "metadata": {
        "id": "umKXxY8QN3DT"
      },
      "source": [
        "Greet_Inputs = (\"hi\",\"hello\",\"namaskaar\",\"whatsup\")\n",
        "Greet_Response =[\"hello\",\"hi\",\"hey\",\"namaskaar\",\"glad! on your presence here\"]\n",
        "def greet(sentence):\n",
        "  for word in sentence.split():\n",
        "    if word.lower() in Greet_Inputs:\n",
        "      return random.choice(Greet_Response)"
      ],
      "execution_count": 14,
      "outputs": []
    },
    {
      "cell_type": "markdown",
      "metadata": {
        "id": "h547oc_sPdvO"
      },
      "source": [
        "**Response Function**"
      ]
    },
    {
      "cell_type": "code",
      "metadata": {
        "id": "qoFzd56WPisP"
      },
      "source": [
        "from sklearn.feature_extraction.text import TfidfVectorizer\n",
        "from sklearn.metrics.pairwise import cosine_similarity"
      ],
      "execution_count": 15,
      "outputs": []
    },
    {
      "cell_type": "code",
      "metadata": {
        "id": "Zk1c87qJP78s"
      },
      "source": [
        "def response(user_response):\n",
        "  robo1_response=''\n",
        "  TfidfVec = TfidfVectorizer(tokenizer=LemNormalize, stop_words='english')\n",
        "  tfidf = TfidfVec.fit_transform(sent_tokens)\n",
        "  vals = cosine_similarity(tfidf[-1], tfidf)\n",
        "  idx=vals.argsort()[0][-2]\n",
        "  flat=vals.flatten()\n",
        "  flat.sort()\n",
        "  req_tfidf=flat[-2]\n",
        "  if(req_tfidf==0):\n",
        "    robo1_response=robo1_response+\"sorry ! can't understand your mean\"\n",
        "    return robo1_response\n",
        "  else:\n",
        "    robo1_response=robo1_response+sent_tokens[idx]\n",
        "    return robo1_response"
      ],
      "execution_count": 17,
      "outputs": []
    },
    {
      "cell_type": "markdown",
      "metadata": {
        "id": "TNcP6jbtbDYQ"
      },
      "source": [
        "**Conversation start and end rules**"
      ]
    },
    {
      "cell_type": "code",
      "metadata": {
        "colab": {
          "base_uri": "https://localhost:8080/"
        },
        "id": "gQqfu63BPLqA",
        "outputId": "ff44e2ab-af99-4aad-e3ef-29f639b79878"
      },
      "source": [
        "flag= True\n",
        "print(\"ChatBot: My name is eco. Lets have a talk,for exit just  type tata!\")\n",
        "while(flag==True):\n",
        "  user_response = input()\n",
        "  user_response=user_response.lower()\n",
        "  if(user_response!='bye'):\n",
        "    if(user_response=='thanks' or user_response=='sukriya' or user_response=='thank you'):\n",
        "       flag=False\n",
        "       print(\"ChatBot: You'r welcome\")\n",
        "    else:\n",
        "      if(greet(user_response)!=None):\n",
        "        print(\"ChatBot:\"+greet(user_response))\n",
        "      else:\n",
        "        sent_tokens.append(user_response)\n",
        "        word_tokens=word_tokens+nltk.word_tokenize(user_response)\n",
        "        final_word=list(set(word_tokens))\n",
        "        print(\"ChatBot:\",end=\"\")\n",
        "        print(response(user_response))\n",
        "        sent_tokens.remove(user_response)\n",
        "  else:\n",
        "    flag=False\n",
        "    print(\"ChatBot: see you\")\n",
        "\n",
        "\n",
        "\n"
      ],
      "execution_count": null,
      "outputs": [
        {
          "output_type": "stream",
          "text": [
            "ChatBot: My name is eco. Lets have a talk,for exit just  type tata!\n",
            "hi\n",
            "ChatBot:namaskaar\n"
          ],
          "name": "stdout"
        }
      ]
    },
    {
      "cell_type": "code",
      "metadata": {
        "id": "tEPGqcWWZh6Q"
      },
      "source": [
        ""
      ],
      "execution_count": null,
      "outputs": []
    }
  ]
}